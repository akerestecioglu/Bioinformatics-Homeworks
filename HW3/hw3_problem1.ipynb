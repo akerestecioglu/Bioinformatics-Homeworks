{
  "nbformat": 4,
  "nbformat_minor": 0,
  "metadata": {
    "colab": {
      "name": "Copy of Lab6-HW3-de-bruijn.ipynb",
      "provenance": [],
      "collapsed_sections": []
    },
    "kernelspec": {
      "name": "python3",
      "display_name": "Python 3"
    }
  },
  "cells": [
    {
      "cell_type": "markdown",
      "metadata": {
        "id": "nOJ9-i0tpqOM",
        "colab_type": "text"
      },
      "source": [
        "Note: Modified from Bioinformatics Algorithms: An Active Learning Approach [Chapter 3](https://www.bioinformaticsalgorithms.org/bioinformatics-chapter-3)\n"
      ]
    },
    {
      "cell_type": "markdown",
      "metadata": {
        "id": "V4rAtGRnpoRO",
        "colab_type": "text"
      },
      "source": [
        "---"
      ]
    },
    {
      "cell_type": "markdown",
      "metadata": {
        "id": "y1S2FCAae7n8",
        "colab_type": "text"
      },
      "source": [
        "# String composition problem\n",
        "\n",
        "\n",
        "    Input: An integer k and a string Text.\n",
        "    Output: Compositionk(Text).\n",
        "\n",
        "See http://rosalind.info/problems/ba3a/ for sample input and output."
      ]
    },
    {
      "cell_type": "code",
      "metadata": {
        "id": "uJTyzhBZfeR6",
        "colab_type": "code",
        "colab": {}
      },
      "source": [
        "def getComposition(seq, k):\n",
        "  '''\n",
        "  seq is a string e.g. 'ATCGG'\n",
        "  k is an int e.g. k = 3\n",
        "  '''\n",
        "  # Initialize a list to hold the k-mers\n",
        "  k_mers = []\n",
        "  # Get each k-mer from seq and add to k_mers list\n",
        "  for i in range(len(seq)-k+1):\n",
        "    k_mers.append(seq[i:i+k])\n",
        "  return k_mers\n"
      ],
      "execution_count": 0,
      "outputs": []
    },
    {
      "cell_type": "code",
      "metadata": {
        "id": "t5M7l9XbhuwE",
        "colab_type": "code",
        "colab": {
          "base_uri": "https://localhost:8080/",
          "height": 33
        },
        "outputId": "b25908b6-819c-4b9d-d73b-7879dbe538dc"
      },
      "source": [
        "getComposition('CAATCCAAC', 5)"
      ],
      "execution_count": 2,
      "outputs": [
        {
          "output_type": "execute_result",
          "data": {
            "text/plain": [
              "['CAATC', 'AATCC', 'ATCCA', 'TCCAA', 'CCAAC']"
            ]
          },
          "metadata": {
            "tags": []
          },
          "execution_count": 2
        }
      ]
    },
    {
      "cell_type": "markdown",
      "metadata": {
        "id": "eRFNRvt_fap5",
        "colab_type": "text"
      },
      "source": [
        "---"
      ]
    },
    {
      "cell_type": "markdown",
      "metadata": {
        "id": "RjERHexwy4_g",
        "colab_type": "text"
      },
      "source": [
        "# de Bruijn Graph Construction Problem\n",
        "\n",
        "DeBruijn Graph from k-mers Problem: Construct the de Bruijn graph from a set of k-mers.\n",
        "\n",
        "    - Input: A collection of k-mers Patterns.\n",
        "    - Output: The adjacency list of the de Bruijn graph DeBruijn(Patterns).\n",
        "\n",
        "\n",
        "See http://rosalind.info/problems/ba3e/ for sample input and output.\n"
      ]
    },
    {
      "cell_type": "code",
      "metadata": {
        "id": "oU0vbUT_f3w9",
        "colab_type": "code",
        "colab": {}
      },
      "source": [
        "def DeBruijn(kmers):\n",
        "  '''\n",
        "  kmers is a list. \n",
        "  e.g. \n",
        "  kmers = ['GAGG','CAGG','GGGG','GGGA','CAGG','AGGG','GGAG']\n",
        "  '''\n",
        "  # Initialize empty dict to hold de bruijn graph\n",
        "  deBruijn = {}\n",
        "  # for each kmer  \n",
        "  for kmer in kmers:  \n",
        "    # Get prefix & suffix of this kmer\n",
        "    pre = kmer[:len(kmer)-1]\n",
        "    suf = kmer[1:]\n",
        "    # Add links between prefix and suffix \n",
        "    if pre not in deBruijn:\n",
        "      deBruijn[pre] = [suf]\n",
        "    else:\n",
        "      deBruijn[pre].append(suf)\n",
        "  return(deBruijn)\n"
      ],
      "execution_count": 0,
      "outputs": []
    },
    {
      "cell_type": "code",
      "metadata": {
        "id": "b04t5i-Qh5mS",
        "colab_type": "code",
        "colab": {}
      },
      "source": [
        "db = DeBruijn(['GAGG','CAGG','GGGG','GGGA','CAGG','AGGG','GGAG'])"
      ],
      "execution_count": 0,
      "outputs": []
    },
    {
      "cell_type": "code",
      "metadata": {
        "id": "OWVblGfB1nT3",
        "colab_type": "code",
        "outputId": "92b69fae-4c3b-4a6a-85dd-85d598be4754",
        "colab": {
          "base_uri": "https://localhost:8080/",
          "height": 99
        }
      },
      "source": [
        "# function to print de bruijn graph\n",
        "def printDeBruijn(deBruijn):\n",
        "  '''\n",
        "  deBruijn is a dict of the deBruijn graph\n",
        "  e.g.\n",
        "  deBruijn = {'GAG': ['AGG'], 'CAG': ['AGG', 'AGG'], 'GGG': ['GGG', 'GGA'], 'AGG': ['GGG'], 'GGA': ['GAG']}\n",
        "  '''\n",
        "  for key, val in deBruijn.items():\n",
        "    print(key, '->', *val)\n",
        "\n",
        "printDeBruijn(db)"
      ],
      "execution_count": 10,
      "outputs": [
        {
          "output_type": "stream",
          "text": [
            "GAG -> AGG\n",
            "CAG -> AGG AGG\n",
            "GGG -> GGG GGA\n",
            "AGG -> GGG\n",
            "GGA -> GAG\n"
          ],
          "name": "stdout"
        }
      ]
    },
    {
      "cell_type": "code",
      "metadata": {
        "id": "EG9pI7oWYgeR",
        "colab_type": "code",
        "colab": {}
      },
      "source": [
        "iki = DeBruijn(getComposition('TAATGCCATGGGATGTT', 2))\n",
        "uc = DeBruijn(getComposition('TAATGCCATGGGATGTT', 3))\n",
        "dort = DeBruijn(getComposition('TAATGCCATGGGATGTT', 4))"
      ],
      "execution_count": 0,
      "outputs": []
    },
    {
      "cell_type": "code",
      "metadata": {
        "id": "5ktDBTjWZMDk",
        "colab_type": "code",
        "colab": {
          "base_uri": "https://localhost:8080/",
          "height": 478
        },
        "outputId": "59cf347c-1381-44d5-bad5-025b51941ad1"
      },
      "source": [
        "printDeBruijn(iki)\n",
        "print('------------------------------')\n",
        "printDeBruijn(uc)\n",
        "print('------------------------------')\n",
        "printDeBruijn(dort)"
      ],
      "execution_count": 12,
      "outputs": [
        {
          "output_type": "stream",
          "text": [
            "T -> A G G G T\n",
            "A -> A T T T\n",
            "G -> C G G A T\n",
            "C -> C A\n",
            "------------------------------\n",
            "TA -> AA\n",
            "AA -> AT\n",
            "AT -> TG TG TG\n",
            "TG -> GC GG GT\n",
            "GC -> CC\n",
            "CC -> CA\n",
            "CA -> AT\n",
            "GG -> GG GA\n",
            "GA -> AT\n",
            "GT -> TT\n",
            "------------------------------\n",
            "TAA -> AAT\n",
            "AAT -> ATG\n",
            "ATG -> TGC TGG TGT\n",
            "TGC -> GCC\n",
            "GCC -> CCA\n",
            "CCA -> CAT\n",
            "CAT -> ATG\n",
            "TGG -> GGG\n",
            "GGG -> GGA\n",
            "GGA -> GAT\n",
            "GAT -> ATG\n",
            "TGT -> GTT\n"
          ],
          "name": "stdout"
        }
      ]
    },
    {
      "cell_type": "code",
      "metadata": {
        "id": "-rAXb4hqbGwD",
        "colab_type": "code",
        "colab": {
          "base_uri": "https://localhost:8080/",
          "height": 363
        },
        "outputId": "a2918af6-8b87-4858-f0a4-9cfdb8ec5996"
      },
      "source": [
        "first = DeBruijn(getComposition('TAATGCCATGGGATGTT', 3))\n",
        "sec = DeBruijn(getComposition('TAATGGGATGCCATGTT', 3))\n",
        "printDeBruijn(first)\n",
        "print('------------------------------')\n",
        "printDeBruijn(sec)"
      ],
      "execution_count": 13,
      "outputs": [
        {
          "output_type": "stream",
          "text": [
            "TA -> AA\n",
            "AA -> AT\n",
            "AT -> TG TG TG\n",
            "TG -> GC GG GT\n",
            "GC -> CC\n",
            "CC -> CA\n",
            "CA -> AT\n",
            "GG -> GG GA\n",
            "GA -> AT\n",
            "GT -> TT\n",
            "------------------------------\n",
            "TA -> AA\n",
            "AA -> AT\n",
            "AT -> TG TG TG\n",
            "TG -> GG GC GT\n",
            "GG -> GG GA\n",
            "GA -> AT\n",
            "GC -> CC\n",
            "CC -> CA\n",
            "CA -> AT\n",
            "GT -> TT\n"
          ],
          "name": "stdout"
        }
      ]
    },
    {
      "cell_type": "markdown",
      "metadata": {
        "id": "j6zG41rI1Nyp",
        "colab_type": "text"
      },
      "source": [
        "---"
      ]
    }
  ]
}